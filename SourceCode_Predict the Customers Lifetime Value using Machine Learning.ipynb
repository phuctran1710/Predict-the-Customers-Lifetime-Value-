{
 "cells": [
  {
   "cell_type": "markdown",
   "metadata": {},
   "source": [
    "K194141740 - TRẦN THANH PHÚC"
   ]
  },
  {
   "cell_type": "markdown",
   "metadata": {},
   "source": [
    "First, I will import the libraries that I think I will use in this task."
   ]
  },
  {
   "cell_type": "code",
   "execution_count": 61,
   "metadata": {},
   "outputs": [],
   "source": [
    "# Import Libraries\n",
    "import pandas as pd\n",
    "import numpy as np\n",
    "from sklearn import preprocessing\n",
    "import matplotlib.pyplot as plt \n",
    "plt.rc(\"font\", size=14)\n",
    "from sklearn.linear_model import LogisticRegression\n",
    "from sklearn.model_selection import train_test_split\n",
    "import seaborn as sns\n",
    "sns.set(style=\"white\")\n",
    "sns.set(style=\"whitegrid\", color_codes=True)"
   ]
  },
  {
   "cell_type": "markdown",
   "metadata": {},
   "source": [
    "Import the Data"
   ]
  },
  {
   "cell_type": "code",
   "execution_count": 62,
   "metadata": {},
   "outputs": [],
   "source": [
    "# Import Data\n",
    "df = pd.read_csv('company.csv', encoding='unicode_escape' )"
   ]
  },
  {
   "cell_type": "markdown",
   "metadata": {},
   "source": [
    "DATA UNDERSTANDING"
   ]
  },
  {
   "cell_type": "markdown",
   "metadata": {},
   "source": [
    "OK. Let's proceed to the Data Understanding section."
   ]
  },
  {
   "cell_type": "code",
   "execution_count": 63,
   "metadata": {},
   "outputs": [
    {
     "name": "stdout",
     "output_type": "stream",
     "text": [
      "(495478, 7)\n",
      "['CustomerID', 'InvoiceNo', 'InvoiceDate', 'StockCode', 'Description', 'Quantity', 'UnitPrice']\n"
     ]
    }
   ],
   "source": [
    "print(df.shape)\n",
    "print(list(df.columns))"
   ]
  },
  {
   "cell_type": "markdown",
   "metadata": {},
   "source": [
    "It is easy to see that the data has 7 variables and 495478 observations. "
   ]
  },
  {
   "cell_type": "markdown",
   "metadata": {},
   "source": [
    "Next, I will look at the top 5 and bottom observations of the data.  It is useful for quickly verifying data. For example, after sorting or appending rows."
   ]
  },
  {
   "cell_type": "code",
   "execution_count": 64,
   "metadata": {},
   "outputs": [
    {
     "data": {
      "text/html": [
       "<div>\n",
       "<style scoped>\n",
       "    .dataframe tbody tr th:only-of-type {\n",
       "        vertical-align: middle;\n",
       "    }\n",
       "\n",
       "    .dataframe tbody tr th {\n",
       "        vertical-align: top;\n",
       "    }\n",
       "\n",
       "    .dataframe thead th {\n",
       "        text-align: right;\n",
       "    }\n",
       "</style>\n",
       "<table border=\"1\" class=\"dataframe\">\n",
       "  <thead>\n",
       "    <tr style=\"text-align: right;\">\n",
       "      <th></th>\n",
       "      <th>CustomerID</th>\n",
       "      <th>InvoiceNo</th>\n",
       "      <th>InvoiceDate</th>\n",
       "      <th>StockCode</th>\n",
       "      <th>Description</th>\n",
       "      <th>Quantity</th>\n",
       "      <th>UnitPrice</th>\n",
       "    </tr>\n",
       "  </thead>\n",
       "  <tbody>\n",
       "    <tr>\n",
       "      <th>0</th>\n",
       "      <td>17850.0</td>\n",
       "      <td>536365</td>\n",
       "      <td>25/09/2020</td>\n",
       "      <td>85123A</td>\n",
       "      <td>WHITE HANGING HEART T-LIGHT HOLDER</td>\n",
       "      <td>6</td>\n",
       "      <td>8.415</td>\n",
       "    </tr>\n",
       "    <tr>\n",
       "      <th>1</th>\n",
       "      <td>17850.0</td>\n",
       "      <td>536365</td>\n",
       "      <td>25/09/2020</td>\n",
       "      <td>71053</td>\n",
       "      <td>WHITE METAL LANTERN</td>\n",
       "      <td>6</td>\n",
       "      <td>11.187</td>\n",
       "    </tr>\n",
       "    <tr>\n",
       "      <th>2</th>\n",
       "      <td>17850.0</td>\n",
       "      <td>536365</td>\n",
       "      <td>25/09/2020</td>\n",
       "      <td>84406B</td>\n",
       "      <td>CREAM CUPID HEARTS COAT HANGER</td>\n",
       "      <td>8</td>\n",
       "      <td>9.075</td>\n",
       "    </tr>\n",
       "    <tr>\n",
       "      <th>3</th>\n",
       "      <td>17850.0</td>\n",
       "      <td>536365</td>\n",
       "      <td>25/09/2020</td>\n",
       "      <td>84029G</td>\n",
       "      <td>KNITTED UNION FLAG HOT WATER BOTTLE</td>\n",
       "      <td>6</td>\n",
       "      <td>11.187</td>\n",
       "    </tr>\n",
       "    <tr>\n",
       "      <th>4</th>\n",
       "      <td>17850.0</td>\n",
       "      <td>536365</td>\n",
       "      <td>25/09/2020</td>\n",
       "      <td>84029E</td>\n",
       "      <td>RED WOOLLY HOTTIE WHITE HEART.</td>\n",
       "      <td>6</td>\n",
       "      <td>11.187</td>\n",
       "    </tr>\n",
       "  </tbody>\n",
       "</table>\n",
       "</div>"
      ],
      "text/plain": [
       "   CustomerID InvoiceNo InvoiceDate StockCode  \\\n",
       "0     17850.0    536365  25/09/2020    85123A   \n",
       "1     17850.0    536365  25/09/2020     71053   \n",
       "2     17850.0    536365  25/09/2020    84406B   \n",
       "3     17850.0    536365  25/09/2020    84029G   \n",
       "4     17850.0    536365  25/09/2020    84029E   \n",
       "\n",
       "                           Description  Quantity  UnitPrice  \n",
       "0   WHITE HANGING HEART T-LIGHT HOLDER         6      8.415  \n",
       "1                  WHITE METAL LANTERN         6     11.187  \n",
       "2       CREAM CUPID HEARTS COAT HANGER         8      9.075  \n",
       "3  KNITTED UNION FLAG HOT WATER BOTTLE         6     11.187  \n",
       "4       RED WOOLLY HOTTIE WHITE HEART.         6     11.187  "
      ]
     },
     "execution_count": 64,
     "metadata": {},
     "output_type": "execute_result"
    }
   ],
   "source": [
    "df.head()"
   ]
  },
  {
   "cell_type": "code",
   "execution_count": 65,
   "metadata": {},
   "outputs": [
    {
     "data": {
      "text/html": [
       "<div>\n",
       "<style scoped>\n",
       "    .dataframe tbody tr th:only-of-type {\n",
       "        vertical-align: middle;\n",
       "    }\n",
       "\n",
       "    .dataframe tbody tr th {\n",
       "        vertical-align: top;\n",
       "    }\n",
       "\n",
       "    .dataframe thead th {\n",
       "        text-align: right;\n",
       "    }\n",
       "</style>\n",
       "<table border=\"1\" class=\"dataframe\">\n",
       "  <thead>\n",
       "    <tr style=\"text-align: right;\">\n",
       "      <th></th>\n",
       "      <th>CustomerID</th>\n",
       "      <th>InvoiceNo</th>\n",
       "      <th>InvoiceDate</th>\n",
       "      <th>StockCode</th>\n",
       "      <th>Description</th>\n",
       "      <th>Quantity</th>\n",
       "      <th>UnitPrice</th>\n",
       "    </tr>\n",
       "  </thead>\n",
       "  <tbody>\n",
       "    <tr>\n",
       "      <th>495473</th>\n",
       "      <td>15804.0</td>\n",
       "      <td>581585</td>\n",
       "      <td>03/10/2021</td>\n",
       "      <td>22466</td>\n",
       "      <td>FAIRY TALE COTTAGE NIGHT LIGHT</td>\n",
       "      <td>12</td>\n",
       "      <td>6.435</td>\n",
       "    </tr>\n",
       "    <tr>\n",
       "      <th>495474</th>\n",
       "      <td>13113.0</td>\n",
       "      <td>581586</td>\n",
       "      <td>04/10/2021</td>\n",
       "      <td>22061</td>\n",
       "      <td>LARGE CAKE STAND  HANGING STRAWBERY</td>\n",
       "      <td>8</td>\n",
       "      <td>9.735</td>\n",
       "    </tr>\n",
       "    <tr>\n",
       "      <th>495475</th>\n",
       "      <td>13113.0</td>\n",
       "      <td>581586</td>\n",
       "      <td>04/10/2021</td>\n",
       "      <td>23275</td>\n",
       "      <td>SET OF 3 HANGING OWLS OLLIE BEAK</td>\n",
       "      <td>24</td>\n",
       "      <td>4.125</td>\n",
       "    </tr>\n",
       "    <tr>\n",
       "      <th>495476</th>\n",
       "      <td>13113.0</td>\n",
       "      <td>581586</td>\n",
       "      <td>04/10/2021</td>\n",
       "      <td>21217</td>\n",
       "      <td>RED RETROSPOT ROUND CAKE TINS</td>\n",
       "      <td>24</td>\n",
       "      <td>29.535</td>\n",
       "    </tr>\n",
       "    <tr>\n",
       "      <th>495477</th>\n",
       "      <td>13113.0</td>\n",
       "      <td>581586</td>\n",
       "      <td>04/10/2021</td>\n",
       "      <td>20685</td>\n",
       "      <td>DOORMAT RED RETROSPOT</td>\n",
       "      <td>10</td>\n",
       "      <td>23.364</td>\n",
       "    </tr>\n",
       "  </tbody>\n",
       "</table>\n",
       "</div>"
      ],
      "text/plain": [
       "        CustomerID InvoiceNo InvoiceDate StockCode  \\\n",
       "495473     15804.0    581585  03/10/2021     22466   \n",
       "495474     13113.0    581586  04/10/2021     22061   \n",
       "495475     13113.0    581586  04/10/2021     23275   \n",
       "495476     13113.0    581586  04/10/2021     21217   \n",
       "495477     13113.0    581586  04/10/2021     20685   \n",
       "\n",
       "                                Description  Quantity  UnitPrice  \n",
       "495473       FAIRY TALE COTTAGE NIGHT LIGHT        12      6.435  \n",
       "495474  LARGE CAKE STAND  HANGING STRAWBERY         8      9.735  \n",
       "495475     SET OF 3 HANGING OWLS OLLIE BEAK        24      4.125  \n",
       "495476        RED RETROSPOT ROUND CAKE TINS        24     29.535  \n",
       "495477                DOORMAT RED RETROSPOT        10     23.364  "
      ]
     },
     "execution_count": 65,
     "metadata": {},
     "output_type": "execute_result"
    }
   ],
   "source": [
    "df.tail()"
   ]
  },
  {
   "cell_type": "markdown",
   "metadata": {},
   "source": [
    "Let’s prints information about our dataset including the index dtype and columns, non-null values and memory usage."
   ]
  },
  {
   "cell_type": "code",
   "execution_count": 66,
   "metadata": {},
   "outputs": [
    {
     "name": "stdout",
     "output_type": "stream",
     "text": [
      "<class 'pandas.core.frame.DataFrame'>\n",
      "RangeIndex: 495478 entries, 0 to 495477\n",
      "Data columns (total 7 columns):\n",
      " #   Column       Non-Null Count   Dtype  \n",
      "---  ------       --------------   -----  \n",
      " 0   CustomerID   361878 non-null  float64\n",
      " 1   InvoiceNo    495478 non-null  object \n",
      " 2   InvoiceDate  495478 non-null  object \n",
      " 3   StockCode    495478 non-null  object \n",
      " 4   Description  494024 non-null  object \n",
      " 5   Quantity     495478 non-null  int64  \n",
      " 6   UnitPrice    495478 non-null  float64\n",
      "dtypes: float64(2), int64(1), object(4)\n",
      "memory usage: 26.5+ MB\n"
     ]
    }
   ],
   "source": [
    "df.info()"
   ]
  },
  {
   "cell_type": "markdown",
   "metadata": {},
   "source": [
    "We see that there are 3 numerical variables and 4 categorical variables. I added them to 2 separate variables because they can be useful later."
   ]
  },
  {
   "cell_type": "code",
   "execution_count": 67,
   "metadata": {},
   "outputs": [],
   "source": [
    "numerical_features = ['CustomerID', 'Quantity', 'UnitPrice']\n",
    "categorical_features = [x for x in df.columns if (x not in numerical_features)]"
   ]
  },
  {
   "cell_type": "markdown",
   "metadata": {},
   "source": [
    "Let's generate descriptive statistics, which summarize the central tendency, dispersion, and shape of a dataset's distribution while excluding null values."
   ]
  },
  {
   "cell_type": "code",
   "execution_count": 68,
   "metadata": {},
   "outputs": [
    {
     "data": {
      "text/html": [
       "<div>\n",
       "<style scoped>\n",
       "    .dataframe tbody tr th:only-of-type {\n",
       "        vertical-align: middle;\n",
       "    }\n",
       "\n",
       "    .dataframe tbody tr th {\n",
       "        vertical-align: top;\n",
       "    }\n",
       "\n",
       "    .dataframe thead th {\n",
       "        text-align: right;\n",
       "    }\n",
       "</style>\n",
       "<table border=\"1\" class=\"dataframe\">\n",
       "  <thead>\n",
       "    <tr style=\"text-align: right;\">\n",
       "      <th></th>\n",
       "      <th>CustomerID</th>\n",
       "      <th>Quantity</th>\n",
       "      <th>UnitPrice</th>\n",
       "    </tr>\n",
       "  </thead>\n",
       "  <tbody>\n",
       "    <tr>\n",
       "      <th>count</th>\n",
       "      <td>361878.000000</td>\n",
       "      <td>495478.000000</td>\n",
       "      <td>495478.000000</td>\n",
       "    </tr>\n",
       "    <tr>\n",
       "      <th>mean</th>\n",
       "      <td>15547.871368</td>\n",
       "      <td>8.605486</td>\n",
       "      <td>14.956993</td>\n",
       "    </tr>\n",
       "    <tr>\n",
       "      <th>std</th>\n",
       "      <td>1594.402590</td>\n",
       "      <td>227.588756</td>\n",
       "      <td>327.740946</td>\n",
       "    </tr>\n",
       "    <tr>\n",
       "      <th>min</th>\n",
       "      <td>12346.000000</td>\n",
       "      <td>-80995.000000</td>\n",
       "      <td>-36504.798000</td>\n",
       "    </tr>\n",
       "    <tr>\n",
       "      <th>25%</th>\n",
       "      <td>14194.000000</td>\n",
       "      <td>1.000000</td>\n",
       "      <td>4.125000</td>\n",
       "    </tr>\n",
       "    <tr>\n",
       "      <th>50%</th>\n",
       "      <td>15514.000000</td>\n",
       "      <td>3.000000</td>\n",
       "      <td>6.930000</td>\n",
       "    </tr>\n",
       "    <tr>\n",
       "      <th>75%</th>\n",
       "      <td>16931.000000</td>\n",
       "      <td>10.000000</td>\n",
       "      <td>13.629000</td>\n",
       "    </tr>\n",
       "    <tr>\n",
       "      <th>max</th>\n",
       "      <td>18287.000000</td>\n",
       "      <td>80995.000000</td>\n",
       "      <td>128601.000000</td>\n",
       "    </tr>\n",
       "  </tbody>\n",
       "</table>\n",
       "</div>"
      ],
      "text/plain": [
       "          CustomerID       Quantity      UnitPrice\n",
       "count  361878.000000  495478.000000  495478.000000\n",
       "mean    15547.871368       8.605486      14.956993\n",
       "std      1594.402590     227.588756     327.740946\n",
       "min     12346.000000  -80995.000000  -36504.798000\n",
       "25%     14194.000000       1.000000       4.125000\n",
       "50%     15514.000000       3.000000       6.930000\n",
       "75%     16931.000000      10.000000      13.629000\n",
       "max     18287.000000   80995.000000  128601.000000"
      ]
     },
     "execution_count": 68,
     "metadata": {},
     "output_type": "execute_result"
    }
   ],
   "source": [
    "# Describe Data\n",
    "df.describe()"
   ]
  },
  {
   "cell_type": "markdown",
   "metadata": {},
   "source": [
    "Let's visualize 3 numerical variables with graphs to make it easier to understand."
   ]
  },
  {
   "cell_type": "code",
   "execution_count": 69,
   "metadata": {},
   "outputs": [
    {
     "data": {
      "image/png": "[encoded data removed]",
      "text/plain": [
       "<Figure size 1440x1080 with 3 Axes>"
      ]
     },
     "metadata": {},
     "output_type": "display_data"
    }
   ],
   "source": [
    "plt.figure(figsize=(20,15))\n",
    "ax1 = plt.subplot(3,1,1)\n",
    "ax1 = df['CustomerID'].hist(bins=50)\n",
    "ax1.set_title('Customer ID')\n",
    "\n",
    "ax2 = plt.subplot(3,1,2)\n",
    "ax2 = df['Quantity'].hist(bins=50)\n",
    "ax2.set_title('Quantity')\n",
    "\n",
    "ax3 = plt.subplot(3,1,3)\n",
    "ax3 = df['UnitPrice'].hist(bins=50)\n",
    "ax3.set_title('UnitPrice')\n",
    "\n",
    "# plt.savefig(“attribute_histogram_plots”)\n",
    "plt.show()"
   ]
  },
  {
   "cell_type": "markdown",
   "metadata": {},
   "source": [
    "There are some negative values in the \"Quantity\" and \"UnitPrice\" features, as seen in both the statistical summary and the histogram above. Because it makes no sense for quantity to be negative, I will remove these values in the next phase."
   ]
  },
  {
   "cell_type": "markdown",
   "metadata": {},
   "source": [
    "Let’s check the number of missing values in each column."
   ]
  },
  {
   "cell_type": "code",
   "execution_count": 70,
   "metadata": {},
   "outputs": [
    {
     "data": {
      "text/plain": [
       "CustomerID     133600\n",
       "InvoiceNo           0\n",
       "InvoiceDate         0\n",
       "StockCode           0\n",
       "Description      1454\n",
       "Quantity            0\n",
       "UnitPrice           0\n",
       "dtype: int64"
      ]
     },
     "execution_count": 70,
     "metadata": {},
     "output_type": "execute_result"
    }
   ],
   "source": [
    "# Check minssing values\n",
    "df.isna().sum()"
   ]
  },
  {
   "cell_type": "markdown",
   "metadata": {},
   "source": [
    "These missing values cannot be filled using methods because they will be wrong in nature and meaning. Thereore, I will remove them in later section."
   ]
  },
  {
   "cell_type": "markdown",
   "metadata": {},
   "source": [
    "\n",
    "Let’s compute pairwise correlation of columns, excluding null values."
   ]
  },
  {
   "cell_type": "code",
   "execution_count": 71,
   "metadata": {},
   "outputs": [
    {
     "name": "stdout",
     "output_type": "stream",
     "text": [
      "            CustomerID  Quantity  UnitPrice\n",
      "CustomerID    1.000000 -0.000844  -0.000828\n",
      "Quantity     -0.000844  1.000000  -0.000994\n",
      "UnitPrice    -0.000828 -0.000994   1.000000\n"
     ]
    },
    {
     "data": {
      "image/png": "[encoded data removed]",
      "text/plain": [
       "<Figure size 504x360 with 2 Axes>"
      ]
     },
     "metadata": {},
     "output_type": "display_data"
    }
   ],
   "source": [
    "print(df.corr())  # view correlation\n",
    "plt.figure(figsize=(7,5))\n",
    "sns.heatmap(df.corr(),annot=True)\n",
    "plt.show()"
   ]
  },
  {
   "cell_type": "markdown",
   "metadata": {},
   "source": [
    "It is easy to see that the variables are not correlated at all."
   ]
  },
  {
   "cell_type": "markdown",
   "metadata": {},
   "source": [
    "DATA PREPROCESSING"
   ]
  },
  {
   "cell_type": "markdown",
   "metadata": {},
   "source": [
    "Let's make a copy dataset for this section."
   ]
  },
  {
   "cell_type": "code",
   "execution_count": 72,
   "metadata": {},
   "outputs": [
    {
     "name": "stdout",
     "output_type": "stream",
     "text": [
      "<class 'pandas.core.frame.DataFrame'>\n",
      "RangeIndex: 495478 entries, 0 to 495477\n",
      "Data columns (total 7 columns):\n",
      " #   Column       Non-Null Count   Dtype  \n",
      "---  ------       --------------   -----  \n",
      " 0   CustomerID   361878 non-null  float64\n",
      " 1   InvoiceNo    495478 non-null  object \n",
      " 2   InvoiceDate  495478 non-null  object \n",
      " 3   StockCode    495478 non-null  object \n",
      " 4   Description  494024 non-null  object \n",
      " 5   Quantity     495478 non-null  int64  \n",
      " 6   UnitPrice    495478 non-null  float64\n",
      "dtypes: float64(2), int64(1), object(4)\n",
      "memory usage: 26.5+ MB\n"
     ]
    }
   ],
   "source": [
    "df2 = df.copy()\n",
    "df2.info()"
   ]
  },
  {
   "cell_type": "markdown",
   "metadata": {},
   "source": [
    "I will remove missing values for the new dataset as I said before."
   ]
  },
  {
   "cell_type": "code",
   "execution_count": 73,
   "metadata": {},
   "outputs": [
    {
     "name": "stdout",
     "output_type": "stream",
     "text": [
      "CustomerID     0\n",
      "InvoiceNo      0\n",
      "InvoiceDate    0\n",
      "StockCode      0\n",
      "Description    0\n",
      "Quantity       0\n",
      "UnitPrice      0\n",
      "dtype: int64\n",
      "<class 'pandas.core.frame.DataFrame'>\n",
      "Int64Index: 361878 entries, 0 to 495477\n",
      "Data columns (total 7 columns):\n",
      " #   Column       Non-Null Count   Dtype  \n",
      "---  ------       --------------   -----  \n",
      " 0   CustomerID   361878 non-null  float64\n",
      " 1   InvoiceNo    361878 non-null  object \n",
      " 2   InvoiceDate  361878 non-null  object \n",
      " 3   StockCode    361878 non-null  object \n",
      " 4   Description  361878 non-null  object \n",
      " 5   Quantity     361878 non-null  int64  \n",
      " 6   UnitPrice    361878 non-null  float64\n",
      "dtypes: float64(2), int64(1), object(4)\n",
      "memory usage: 22.1+ MB\n"
     ]
    }
   ],
   "source": [
    "# Drop missing values and check\n",
    "df2 = df2.dropna()\n",
    "print(df2.isna().sum())\n",
    "df2.info()"
   ]
  },
  {
   "cell_type": "markdown",
   "metadata": {},
   "source": [
    "Our database has shrunk by nearly 27%, from 495,478 to 361,878 records. It makes no difference because we still have a few hundred thousand records."
   ]
  },
  {
   "cell_type": "markdown",
   "metadata": {},
   "source": [
    "Next, let's remove any negative values and zero value in Quantity and UnitPrice columns. "
   ]
  },
  {
   "cell_type": "code",
   "execution_count": 75,
   "metadata": {},
   "outputs": [
    {
     "data": {
      "text/html": [
       "<div>\n",
       "<style scoped>\n",
       "    .dataframe tbody tr th:only-of-type {\n",
       "        vertical-align: middle;\n",
       "    }\n",
       "\n",
       "    .dataframe tbody tr th {\n",
       "        vertical-align: top;\n",
       "    }\n",
       "\n",
       "    .dataframe thead th {\n",
       "        text-align: right;\n",
       "    }\n",
       "</style>\n",
       "<table border=\"1\" class=\"dataframe\">\n",
       "  <thead>\n",
       "    <tr style=\"text-align: right;\">\n",
       "      <th></th>\n",
       "      <th>CustomerID</th>\n",
       "      <th>InvoiceNo</th>\n",
       "      <th>InvoiceDate</th>\n",
       "      <th>StockCode</th>\n",
       "      <th>Description</th>\n",
       "      <th>Quantity</th>\n",
       "      <th>UnitPrice</th>\n",
       "    </tr>\n",
       "  </thead>\n",
       "  <tbody>\n",
       "    <tr>\n",
       "      <th>0</th>\n",
       "      <td>17850.0</td>\n",
       "      <td>536365</td>\n",
       "      <td>25/09/2020</td>\n",
       "      <td>85123A</td>\n",
       "      <td>WHITE HANGING HEART T-LIGHT HOLDER</td>\n",
       "      <td>6.0</td>\n",
       "      <td>8.415</td>\n",
       "    </tr>\n",
       "    <tr>\n",
       "      <th>1</th>\n",
       "      <td>17850.0</td>\n",
       "      <td>536365</td>\n",
       "      <td>25/09/2020</td>\n",
       "      <td>71053</td>\n",
       "      <td>WHITE METAL LANTERN</td>\n",
       "      <td>6.0</td>\n",
       "      <td>11.187</td>\n",
       "    </tr>\n",
       "    <tr>\n",
       "      <th>2</th>\n",
       "      <td>17850.0</td>\n",
       "      <td>536365</td>\n",
       "      <td>25/09/2020</td>\n",
       "      <td>84406B</td>\n",
       "      <td>CREAM CUPID HEARTS COAT HANGER</td>\n",
       "      <td>8.0</td>\n",
       "      <td>9.075</td>\n",
       "    </tr>\n",
       "    <tr>\n",
       "      <th>3</th>\n",
       "      <td>17850.0</td>\n",
       "      <td>536365</td>\n",
       "      <td>25/09/2020</td>\n",
       "      <td>84029G</td>\n",
       "      <td>KNITTED UNION FLAG HOT WATER BOTTLE</td>\n",
       "      <td>6.0</td>\n",
       "      <td>11.187</td>\n",
       "    </tr>\n",
       "    <tr>\n",
       "      <th>4</th>\n",
       "      <td>17850.0</td>\n",
       "      <td>536365</td>\n",
       "      <td>25/09/2020</td>\n",
       "      <td>84029E</td>\n",
       "      <td>RED WOOLLY HOTTIE WHITE HEART.</td>\n",
       "      <td>6.0</td>\n",
       "      <td>11.187</td>\n",
       "    </tr>\n",
       "  </tbody>\n",
       "</table>\n",
       "</div>"
      ],
      "text/plain": [
       "   CustomerID InvoiceNo InvoiceDate StockCode  \\\n",
       "0     17850.0    536365  25/09/2020    85123A   \n",
       "1     17850.0    536365  25/09/2020     71053   \n",
       "2     17850.0    536365  25/09/2020    84406B   \n",
       "3     17850.0    536365  25/09/2020    84029G   \n",
       "4     17850.0    536365  25/09/2020    84029E   \n",
       "\n",
       "                           Description  Quantity  UnitPrice  \n",
       "0   WHITE HANGING HEART T-LIGHT HOLDER       6.0      8.415  \n",
       "1                  WHITE METAL LANTERN       6.0     11.187  \n",
       "2       CREAM CUPID HEARTS COAT HANGER       8.0      9.075  \n",
       "3  KNITTED UNION FLAG HOT WATER BOTTLE       6.0     11.187  \n",
       "4       RED WOOLLY HOTTIE WHITE HEART.       6.0     11.187  "
      ]
     },
     "execution_count": 75,
     "metadata": {},
     "output_type": "execute_result"
    }
   ],
   "source": [
    "# Replace negative values with NaN\n",
    "df2['Quantity'][df2['Quantity'] <= 0] = np.nan\n",
    "df2['UnitPrice'][df2['UnitPrice'] <= 0] = np.nan\n",
    "# Drop NaN\n",
    "df2 = df2.dropna()\n",
    "df2.head()"
   ]
  },
  {
   "cell_type": "markdown",
   "metadata": {},
   "source": [
    "Print out the summary information and statistics to check if the goal has been achieved."
   ]
  },
  {
   "cell_type": "code",
   "execution_count": 76,
   "metadata": {},
   "outputs": [
    {
     "name": "stdout",
     "output_type": "stream",
     "text": [
      "<class 'pandas.core.frame.DataFrame'>\n",
      "Int64Index: 354321 entries, 0 to 495477\n",
      "Data columns (total 7 columns):\n",
      " #   Column       Non-Null Count   Dtype  \n",
      "---  ------       --------------   -----  \n",
      " 0   CustomerID   354321 non-null  float64\n",
      " 1   InvoiceNo    354321 non-null  object \n",
      " 2   InvoiceDate  354321 non-null  object \n",
      " 3   StockCode    354321 non-null  object \n",
      " 4   Description  354321 non-null  object \n",
      " 5   Quantity     354321 non-null  float64\n",
      " 6   UnitPrice    354321 non-null  float64\n",
      "dtypes: float64(3), object(4)\n",
      "memory usage: 21.6+ MB\n",
      "None\n",
      "          CustomerID       Quantity      UnitPrice\n",
      "count  354321.000000  354321.000000  354321.000000\n",
      "mean    15552.486392      12.013795       9.781179\n",
      "std      1594.527150     189.267956      58.946762\n",
      "min     12346.000000       1.000000       0.003300\n",
      "25%     14194.000000       2.000000       4.125000\n",
      "50%     15522.000000       4.000000       6.435000\n",
      "75%     16931.000000      12.000000      12.375000\n",
      "max     18287.000000   80995.000000   26871.075000\n"
     ]
    }
   ],
   "source": [
    "print(df2.info())\n",
    "print(df2.describe())"
   ]
  },
  {
   "cell_type": "markdown",
   "metadata": {},
   "source": [
    "After removing nulls, our new dataset has 354,321 records and 7 columns."
   ]
  },
  {
   "cell_type": "markdown",
   "metadata": {},
   "source": [
    "DATA PREPARATION"
   ]
  },
  {
   "cell_type": "markdown",
   "metadata": {},
   "source": [
    "Several features, such as \"StockCode\" and \"Description,\" are unnecessary. As a result, I'm going to drop them."
   ]
  },
  {
   "cell_type": "code",
   "execution_count": 77,
   "metadata": {},
   "outputs": [
    {
     "data": {
      "text/html": [
       "<div>\n",
       "<style scoped>\n",
       "    .dataframe tbody tr th:only-of-type {\n",
       "        vertical-align: middle;\n",
       "    }\n",
       "\n",
       "    .dataframe tbody tr th {\n",
       "        vertical-align: top;\n",
       "    }\n",
       "\n",
       "    .dataframe thead th {\n",
       "        text-align: right;\n",
       "    }\n",
       "</style>\n",
       "<table border=\"1\" class=\"dataframe\">\n",
       "  <thead>\n",
       "    <tr style=\"text-align: right;\">\n",
       "      <th></th>\n",
       "      <th>CustomerID</th>\n",
       "      <th>InvoiceNo</th>\n",
       "      <th>InvoiceDate</th>\n",
       "      <th>Quantity</th>\n",
       "      <th>UnitPrice</th>\n",
       "    </tr>\n",
       "  </thead>\n",
       "  <tbody>\n",
       "    <tr>\n",
       "      <th>0</th>\n",
       "      <td>17850.0</td>\n",
       "      <td>536365</td>\n",
       "      <td>25/09/2020</td>\n",
       "      <td>6.0</td>\n",
       "      <td>8.415</td>\n",
       "    </tr>\n",
       "    <tr>\n",
       "      <th>1</th>\n",
       "      <td>17850.0</td>\n",
       "      <td>536365</td>\n",
       "      <td>25/09/2020</td>\n",
       "      <td>6.0</td>\n",
       "      <td>11.187</td>\n",
       "    </tr>\n",
       "    <tr>\n",
       "      <th>2</th>\n",
       "      <td>17850.0</td>\n",
       "      <td>536365</td>\n",
       "      <td>25/09/2020</td>\n",
       "      <td>8.0</td>\n",
       "      <td>9.075</td>\n",
       "    </tr>\n",
       "    <tr>\n",
       "      <th>3</th>\n",
       "      <td>17850.0</td>\n",
       "      <td>536365</td>\n",
       "      <td>25/09/2020</td>\n",
       "      <td>6.0</td>\n",
       "      <td>11.187</td>\n",
       "    </tr>\n",
       "    <tr>\n",
       "      <th>4</th>\n",
       "      <td>17850.0</td>\n",
       "      <td>536365</td>\n",
       "      <td>25/09/2020</td>\n",
       "      <td>6.0</td>\n",
       "      <td>11.187</td>\n",
       "    </tr>\n",
       "  </tbody>\n",
       "</table>\n",
       "</div>"
      ],
      "text/plain": [
       "   CustomerID InvoiceNo InvoiceDate  Quantity  UnitPrice\n",
       "0     17850.0    536365  25/09/2020       6.0      8.415\n",
       "1     17850.0    536365  25/09/2020       6.0     11.187\n",
       "2     17850.0    536365  25/09/2020       8.0      9.075\n",
       "3     17850.0    536365  25/09/2020       6.0     11.187\n",
       "4     17850.0    536365  25/09/2020       6.0     11.187"
      ]
     },
     "execution_count": 77,
     "metadata": {},
     "output_type": "execute_result"
    }
   ],
   "source": [
    "# Delete 2 columns\n",
    "del df2['StockCode']\n",
    "del df2['Description']\n",
    "df2.head()"
   ]
  },
  {
   "cell_type": "markdown",
   "metadata": {},
   "source": [
    "I want to give new names to the columns of the data to make it easier to use."
   ]
  },
  {
   "cell_type": "code",
   "execution_count": 78,
   "metadata": {},
   "outputs": [
    {
     "data": {
      "text/html": [
       "<div>\n",
       "<style scoped>\n",
       "    .dataframe tbody tr th:only-of-type {\n",
       "        vertical-align: middle;\n",
       "    }\n",
       "\n",
       "    .dataframe tbody tr th {\n",
       "        vertical-align: top;\n",
       "    }\n",
       "\n",
       "    .dataframe thead th {\n",
       "        text-align: right;\n",
       "    }\n",
       "</style>\n",
       "<table border=\"1\" class=\"dataframe\">\n",
       "  <thead>\n",
       "    <tr style=\"text-align: right;\">\n",
       "      <th></th>\n",
       "      <th>ID_OF_CUSTOMER</th>\n",
       "      <th>NUMBER_OF_INVOICE</th>\n",
       "      <th>DATE_OF_INVOICE</th>\n",
       "      <th>QUANTITY</th>\n",
       "      <th>PRICE_OF_UNIT</th>\n",
       "    </tr>\n",
       "  </thead>\n",
       "  <tbody>\n",
       "    <tr>\n",
       "      <th>0</th>\n",
       "      <td>17850.0</td>\n",
       "      <td>536365</td>\n",
       "      <td>25/09/2020</td>\n",
       "      <td>6.0</td>\n",
       "      <td>8.415</td>\n",
       "    </tr>\n",
       "    <tr>\n",
       "      <th>1</th>\n",
       "      <td>17850.0</td>\n",
       "      <td>536365</td>\n",
       "      <td>25/09/2020</td>\n",
       "      <td>6.0</td>\n",
       "      <td>11.187</td>\n",
       "    </tr>\n",
       "    <tr>\n",
       "      <th>2</th>\n",
       "      <td>17850.0</td>\n",
       "      <td>536365</td>\n",
       "      <td>25/09/2020</td>\n",
       "      <td>8.0</td>\n",
       "      <td>9.075</td>\n",
       "    </tr>\n",
       "    <tr>\n",
       "      <th>3</th>\n",
       "      <td>17850.0</td>\n",
       "      <td>536365</td>\n",
       "      <td>25/09/2020</td>\n",
       "      <td>6.0</td>\n",
       "      <td>11.187</td>\n",
       "    </tr>\n",
       "    <tr>\n",
       "      <th>4</th>\n",
       "      <td>17850.0</td>\n",
       "      <td>536365</td>\n",
       "      <td>25/09/2020</td>\n",
       "      <td>6.0</td>\n",
       "      <td>11.187</td>\n",
       "    </tr>\n",
       "  </tbody>\n",
       "</table>\n",
       "</div>"
      ],
      "text/plain": [
       "   ID_OF_CUSTOMER NUMBER_OF_INVOICE DATE_OF_INVOICE  QUANTITY  PRICE_OF_UNIT\n",
       "0         17850.0            536365      25/09/2020       6.0          8.415\n",
       "1         17850.0            536365      25/09/2020       6.0         11.187\n",
       "2         17850.0            536365      25/09/2020       8.0          9.075\n",
       "3         17850.0            536365      25/09/2020       6.0         11.187\n",
       "4         17850.0            536365      25/09/2020       6.0         11.187"
      ]
     },
     "execution_count": 78,
     "metadata": {},
     "output_type": "execute_result"
    }
   ],
   "source": [
    "# Rename columns\n",
    "df2 = df2.rename(columns={'CustomerID': 'ID_OF_CUSTOMER', 'InvoiceNo': 'NUMBER_OF_INVOICE', 'InvoiceDate': 'DATE_OF_INVOICE', \\\n",
    "    'Quantity': 'QUANTITY', 'UnitPrice': 'PRICE_OF_UNIT'})\n",
    "df2.head()"
   ]
  },
  {
   "cell_type": "markdown",
   "metadata": {},
   "source": [
    "Let's create visualizations for features"
   ]
  },
  {
   "cell_type": "code",
   "execution_count": 79,
   "metadata": {},
   "outputs": [
    {
     "data": {
      "image/png": "[encoded data removed]",
      "text/plain": [
       "<Figure size 1440x1080 with 3 Axes>"
      ]
     },
     "metadata": {},
     "output_type": "display_data"
    }
   ],
   "source": [
    "plt.figure(figsize=(20,15))\n",
    "ax1 = plt.subplot(3,1,1)\n",
    "ax1 = df2['ID_OF_CUSTOMER'].hist(bins=50)\n",
    "ax1.set_title('ID_OF_CUSTOMER')\n",
    "\n",
    "ax2 = plt.subplot(3,1,2)\n",
    "ax2 = df2['QUANTITY'].hist(bins=50)\n",
    "ax2.set_title('QUANTITY')\n",
    "\n",
    "ax3 = plt.subplot(3,1,3)\n",
    "ax3 = df2['PRICE_OF_UNIT'].hist(bins=50)\n",
    "ax3.set_title('PRICE_OF_UNIT')\n",
    "\n",
    "# plt.savefig(“attribute_histogram_plots”)\n",
    "plt.show()"
   ]
  },
  {
   "cell_type": "markdown",
   "metadata": {},
   "source": [
    "Let's add a new feature that represents the total cost of the purchase."
   ]
  },
  {
   "cell_type": "code",
   "execution_count": 80,
   "metadata": {},
   "outputs": [
    {
     "data": {
      "text/html": [
       "<div>\n",
       "<style scoped>\n",
       "    .dataframe tbody tr th:only-of-type {\n",
       "        vertical-align: middle;\n",
       "    }\n",
       "\n",
       "    .dataframe tbody tr th {\n",
       "        vertical-align: top;\n",
       "    }\n",
       "\n",
       "    .dataframe thead th {\n",
       "        text-align: right;\n",
       "    }\n",
       "</style>\n",
       "<table border=\"1\" class=\"dataframe\">\n",
       "  <thead>\n",
       "    <tr style=\"text-align: right;\">\n",
       "      <th></th>\n",
       "      <th>ID_OF_CUSTOMER</th>\n",
       "      <th>NUMBER_OF_INVOICE</th>\n",
       "      <th>DATE_OF_INVOICE</th>\n",
       "      <th>QUANTITY</th>\n",
       "      <th>PRICE_OF_UNIT</th>\n",
       "      <th>TOTAL_PURCHASE</th>\n",
       "    </tr>\n",
       "  </thead>\n",
       "  <tbody>\n",
       "    <tr>\n",
       "      <th>0</th>\n",
       "      <td>17850.0</td>\n",
       "      <td>536365</td>\n",
       "      <td>25/09/2020</td>\n",
       "      <td>6.0</td>\n",
       "      <td>8.415</td>\n",
       "      <td>50.490</td>\n",
       "    </tr>\n",
       "    <tr>\n",
       "      <th>1</th>\n",
       "      <td>17850.0</td>\n",
       "      <td>536365</td>\n",
       "      <td>25/09/2020</td>\n",
       "      <td>6.0</td>\n",
       "      <td>11.187</td>\n",
       "      <td>67.122</td>\n",
       "    </tr>\n",
       "    <tr>\n",
       "      <th>2</th>\n",
       "      <td>17850.0</td>\n",
       "      <td>536365</td>\n",
       "      <td>25/09/2020</td>\n",
       "      <td>8.0</td>\n",
       "      <td>9.075</td>\n",
       "      <td>72.600</td>\n",
       "    </tr>\n",
       "    <tr>\n",
       "      <th>3</th>\n",
       "      <td>17850.0</td>\n",
       "      <td>536365</td>\n",
       "      <td>25/09/2020</td>\n",
       "      <td>6.0</td>\n",
       "      <td>11.187</td>\n",
       "      <td>67.122</td>\n",
       "    </tr>\n",
       "    <tr>\n",
       "      <th>4</th>\n",
       "      <td>17850.0</td>\n",
       "      <td>536365</td>\n",
       "      <td>25/09/2020</td>\n",
       "      <td>6.0</td>\n",
       "      <td>11.187</td>\n",
       "      <td>67.122</td>\n",
       "    </tr>\n",
       "  </tbody>\n",
       "</table>\n",
       "</div>"
      ],
      "text/plain": [
       "   ID_OF_CUSTOMER NUMBER_OF_INVOICE DATE_OF_INVOICE  QUANTITY  PRICE_OF_UNIT  \\\n",
       "0         17850.0            536365      25/09/2020       6.0          8.415   \n",
       "1         17850.0            536365      25/09/2020       6.0         11.187   \n",
       "2         17850.0            536365      25/09/2020       8.0          9.075   \n",
       "3         17850.0            536365      25/09/2020       6.0         11.187   \n",
       "4         17850.0            536365      25/09/2020       6.0         11.187   \n",
       "\n",
       "   TOTAL_PURCHASE  \n",
       "0          50.490  \n",
       "1          67.122  \n",
       "2          72.600  \n",
       "3          67.122  \n",
       "4          67.122  "
      ]
     },
     "execution_count": 80,
     "metadata": {},
     "output_type": "execute_result"
    }
   ],
   "source": [
    "df2['TOTAL_PURCHASE'] = df2['QUANTITY'] * df2['PRICE_OF_UNIT']\n",
    "df2.head()"
   ]
  },
  {
   "cell_type": "markdown",
   "metadata": {},
   "source": [
    "Convert 'DATE OF INVOICE' column to real date data type."
   ]
  },
  {
   "cell_type": "code",
   "execution_count": 81,
   "metadata": {},
   "outputs": [
    {
     "name": "stdout",
     "output_type": "stream",
     "text": [
      "<class 'pandas.core.frame.DataFrame'>\n",
      "Int64Index: 354321 entries, 0 to 495477\n",
      "Data columns (total 6 columns):\n",
      " #   Column             Non-Null Count   Dtype         \n",
      "---  ------             --------------   -----         \n",
      " 0   ID_OF_CUSTOMER     354321 non-null  float64       \n",
      " 1   NUMBER_OF_INVOICE  354321 non-null  object        \n",
      " 2   DATE_OF_INVOICE    354321 non-null  datetime64[ns]\n",
      " 3   QUANTITY           354321 non-null  float64       \n",
      " 4   PRICE_OF_UNIT      354321 non-null  float64       \n",
      " 5   TOTAL_PURCHASE     354321 non-null  float64       \n",
      "dtypes: datetime64[ns](1), float64(4), object(1)\n",
      "memory usage: 18.9+ MB\n",
      "None\n"
     ]
    },
    {
     "data": {
      "text/html": [
       "<div>\n",
       "<style scoped>\n",
       "    .dataframe tbody tr th:only-of-type {\n",
       "        vertical-align: middle;\n",
       "    }\n",
       "\n",
       "    .dataframe tbody tr th {\n",
       "        vertical-align: top;\n",
       "    }\n",
       "\n",
       "    .dataframe thead th {\n",
       "        text-align: right;\n",
       "    }\n",
       "</style>\n",
       "<table border=\"1\" class=\"dataframe\">\n",
       "  <thead>\n",
       "    <tr style=\"text-align: right;\">\n",
       "      <th></th>\n",
       "      <th>ID_OF_CUSTOMER</th>\n",
       "      <th>NUMBER_OF_INVOICE</th>\n",
       "      <th>DATE_OF_INVOICE</th>\n",
       "      <th>QUANTITY</th>\n",
       "      <th>PRICE_OF_UNIT</th>\n",
       "      <th>TOTAL_PURCHASE</th>\n",
       "    </tr>\n",
       "  </thead>\n",
       "  <tbody>\n",
       "    <tr>\n",
       "      <th>0</th>\n",
       "      <td>17850.0</td>\n",
       "      <td>536365</td>\n",
       "      <td>2020-09-25</td>\n",
       "      <td>6.0</td>\n",
       "      <td>8.415</td>\n",
       "      <td>50.490</td>\n",
       "    </tr>\n",
       "    <tr>\n",
       "      <th>1</th>\n",
       "      <td>17850.0</td>\n",
       "      <td>536365</td>\n",
       "      <td>2020-09-25</td>\n",
       "      <td>6.0</td>\n",
       "      <td>11.187</td>\n",
       "      <td>67.122</td>\n",
       "    </tr>\n",
       "    <tr>\n",
       "      <th>2</th>\n",
       "      <td>17850.0</td>\n",
       "      <td>536365</td>\n",
       "      <td>2020-09-25</td>\n",
       "      <td>8.0</td>\n",
       "      <td>9.075</td>\n",
       "      <td>72.600</td>\n",
       "    </tr>\n",
       "    <tr>\n",
       "      <th>3</th>\n",
       "      <td>17850.0</td>\n",
       "      <td>536365</td>\n",
       "      <td>2020-09-25</td>\n",
       "      <td>6.0</td>\n",
       "      <td>11.187</td>\n",
       "      <td>67.122</td>\n",
       "    </tr>\n",
       "    <tr>\n",
       "      <th>4</th>\n",
       "      <td>17850.0</td>\n",
       "      <td>536365</td>\n",
       "      <td>2020-09-25</td>\n",
       "      <td>6.0</td>\n",
       "      <td>11.187</td>\n",
       "      <td>67.122</td>\n",
       "    </tr>\n",
       "  </tbody>\n",
       "</table>\n",
       "</div>"
      ],
      "text/plain": [
       "   ID_OF_CUSTOMER NUMBER_OF_INVOICE DATE_OF_INVOICE  QUANTITY  PRICE_OF_UNIT  \\\n",
       "0         17850.0            536365      2020-09-25       6.0          8.415   \n",
       "1         17850.0            536365      2020-09-25       6.0         11.187   \n",
       "2         17850.0            536365      2020-09-25       8.0          9.075   \n",
       "3         17850.0            536365      2020-09-25       6.0         11.187   \n",
       "4         17850.0            536365      2020-09-25       6.0         11.187   \n",
       "\n",
       "   TOTAL_PURCHASE  \n",
       "0          50.490  \n",
       "1          67.122  \n",
       "2          72.600  \n",
       "3          67.122  \n",
       "4          67.122  "
      ]
     },
     "execution_count": 81,
     "metadata": {},
     "output_type": "execute_result"
    }
   ],
   "source": [
    "df2['DATE_OF_INVOICE'] = pd.to_datetime(df2['DATE_OF_INVOICE'])\n",
    "print(df2.info())\n",
    "df2.head()"
   ]
  },
  {
   "cell_type": "markdown",
   "metadata": {},
   "source": [
    "Now let's extract the month and year from the “DATE OF INVOICE” column so that I can group the data by month later."
   ]
  },
  {
   "cell_type": "code",
   "execution_count": 82,
   "metadata": {},
   "outputs": [
    {
     "data": {
      "text/html": [
       "<div>\n",
       "<style scoped>\n",
       "    .dataframe tbody tr th:only-of-type {\n",
       "        vertical-align: middle;\n",
       "    }\n",
       "\n",
       "    .dataframe tbody tr th {\n",
       "        vertical-align: top;\n",
       "    }\n",
       "\n",
       "    .dataframe thead th {\n",
       "        text-align: right;\n",
       "    }\n",
       "</style>\n",
       "<table border=\"1\" class=\"dataframe\">\n",
       "  <thead>\n",
       "    <tr style=\"text-align: right;\">\n",
       "      <th></th>\n",
       "      <th>ID_OF_CUSTOMER</th>\n",
       "      <th>NUMBER_OF_INVOICE</th>\n",
       "      <th>DATE_OF_INVOICE</th>\n",
       "      <th>QUANTITY</th>\n",
       "      <th>PRICE_OF_UNIT</th>\n",
       "      <th>TOTAL_PURCHASE</th>\n",
       "      <th>MONTH_BY_YEAR</th>\n",
       "    </tr>\n",
       "  </thead>\n",
       "  <tbody>\n",
       "    <tr>\n",
       "      <th>0</th>\n",
       "      <td>17850.0</td>\n",
       "      <td>536365</td>\n",
       "      <td>2020-09-25</td>\n",
       "      <td>6.0</td>\n",
       "      <td>8.415</td>\n",
       "      <td>50.490</td>\n",
       "      <td>Sep-2020</td>\n",
       "    </tr>\n",
       "    <tr>\n",
       "      <th>1</th>\n",
       "      <td>17850.0</td>\n",
       "      <td>536365</td>\n",
       "      <td>2020-09-25</td>\n",
       "      <td>6.0</td>\n",
       "      <td>11.187</td>\n",
       "      <td>67.122</td>\n",
       "      <td>Sep-2020</td>\n",
       "    </tr>\n",
       "    <tr>\n",
       "      <th>2</th>\n",
       "      <td>17850.0</td>\n",
       "      <td>536365</td>\n",
       "      <td>2020-09-25</td>\n",
       "      <td>8.0</td>\n",
       "      <td>9.075</td>\n",
       "      <td>72.600</td>\n",
       "      <td>Sep-2020</td>\n",
       "    </tr>\n",
       "    <tr>\n",
       "      <th>3</th>\n",
       "      <td>17850.0</td>\n",
       "      <td>536365</td>\n",
       "      <td>2020-09-25</td>\n",
       "      <td>6.0</td>\n",
       "      <td>11.187</td>\n",
       "      <td>67.122</td>\n",
       "      <td>Sep-2020</td>\n",
       "    </tr>\n",
       "    <tr>\n",
       "      <th>4</th>\n",
       "      <td>17850.0</td>\n",
       "      <td>536365</td>\n",
       "      <td>2020-09-25</td>\n",
       "      <td>6.0</td>\n",
       "      <td>11.187</td>\n",
       "      <td>67.122</td>\n",
       "      <td>Sep-2020</td>\n",
       "    </tr>\n",
       "  </tbody>\n",
       "</table>\n",
       "</div>"
      ],
      "text/plain": [
       "   ID_OF_CUSTOMER NUMBER_OF_INVOICE DATE_OF_INVOICE  QUANTITY  PRICE_OF_UNIT  \\\n",
       "0         17850.0            536365      2020-09-25       6.0          8.415   \n",
       "1         17850.0            536365      2020-09-25       6.0         11.187   \n",
       "2         17850.0            536365      2020-09-25       8.0          9.075   \n",
       "3         17850.0            536365      2020-09-25       6.0         11.187   \n",
       "4         17850.0            536365      2020-09-25       6.0         11.187   \n",
       "\n",
       "   TOTAL_PURCHASE MONTH_BY_YEAR  \n",
       "0          50.490      Sep-2020  \n",
       "1          67.122      Sep-2020  \n",
       "2          72.600      Sep-2020  \n",
       "3          67.122      Sep-2020  \n",
       "4          67.122      Sep-2020  "
      ]
     },
     "execution_count": 82,
     "metadata": {},
     "output_type": "execute_result"
    }
   ],
   "source": [
    "# Extract month and year from DATE_OF_INVOICE.\n",
    "df2['MONTH_BY_YEAR'] = df2['DATE_OF_INVOICE'].apply(lambda x: x.strftime('%b-%Y'))\n",
    "df2.head()"
   ]
  },
  {
   "cell_type": "markdown",
   "metadata": {},
   "source": [
    "Let's make a pivot table that takes the columns as input and groups the entries into a two-dimensional table in such a way that the data is summarized in multiple dimensions."
   ]
  },
  {
   "cell_type": "code",
   "execution_count": 83,
   "metadata": {},
   "outputs": [
    {
     "data": {
      "text/html": [
       "<div>\n",
       "<style scoped>\n",
       "    .dataframe tbody tr th:only-of-type {\n",
       "        vertical-align: middle;\n",
       "    }\n",
       "\n",
       "    .dataframe tbody tr th {\n",
       "        vertical-align: top;\n",
       "    }\n",
       "\n",
       "    .dataframe thead th {\n",
       "        text-align: right;\n",
       "    }\n",
       "</style>\n",
       "<table border=\"1\" class=\"dataframe\">\n",
       "  <thead>\n",
       "    <tr style=\"text-align: right;\">\n",
       "      <th>MONTH_BY_YEAR</th>\n",
       "      <th>ID_OF_CUSTOMER</th>\n",
       "      <th>Apr-2020</th>\n",
       "      <th>Apr-2021</th>\n",
       "      <th>Aug-2020</th>\n",
       "      <th>Aug-2021</th>\n",
       "      <th>Dec-2020</th>\n",
       "      <th>Dec-2021</th>\n",
       "      <th>Feb-2020</th>\n",
       "      <th>Feb-2021</th>\n",
       "      <th>Jan-2020</th>\n",
       "      <th>...</th>\n",
       "      <th>Mar-2020</th>\n",
       "      <th>Mar-2021</th>\n",
       "      <th>May-2020</th>\n",
       "      <th>May-2021</th>\n",
       "      <th>Nov-2020</th>\n",
       "      <th>Nov-2021</th>\n",
       "      <th>Oct-2020</th>\n",
       "      <th>Oct-2021</th>\n",
       "      <th>Sep-2020</th>\n",
       "      <th>Sep-2021</th>\n",
       "    </tr>\n",
       "  </thead>\n",
       "  <tbody>\n",
       "    <tr>\n",
       "      <th>0</th>\n",
       "      <td>12346.0</td>\n",
       "      <td>0.000</td>\n",
       "      <td>0.000</td>\n",
       "      <td>0.000</td>\n",
       "      <td>0.000</td>\n",
       "      <td>254705.880</td>\n",
       "      <td>0.000</td>\n",
       "      <td>0.000</td>\n",
       "      <td>0.000</td>\n",
       "      <td>0.000</td>\n",
       "      <td>...</td>\n",
       "      <td>0.000</td>\n",
       "      <td>0.000</td>\n",
       "      <td>0.000</td>\n",
       "      <td>0.000</td>\n",
       "      <td>0.000</td>\n",
       "      <td>0.000</td>\n",
       "      <td>0.000</td>\n",
       "      <td>0.000</td>\n",
       "      <td>0.000</td>\n",
       "      <td>0.000</td>\n",
       "    </tr>\n",
       "    <tr>\n",
       "      <th>1</th>\n",
       "      <td>12747.0</td>\n",
       "      <td>0.000</td>\n",
       "      <td>1241.790</td>\n",
       "      <td>0.000</td>\n",
       "      <td>0.000</td>\n",
       "      <td>1025.574</td>\n",
       "      <td>1032.009</td>\n",
       "      <td>0.000</td>\n",
       "      <td>2908.818</td>\n",
       "      <td>0.000</td>\n",
       "      <td>...</td>\n",
       "      <td>0.000</td>\n",
       "      <td>1083.555</td>\n",
       "      <td>0.000</td>\n",
       "      <td>0.000</td>\n",
       "      <td>1000.032</td>\n",
       "      <td>0.000</td>\n",
       "      <td>0.000</td>\n",
       "      <td>0.000</td>\n",
       "      <td>1183.248</td>\n",
       "      <td>0.000</td>\n",
       "    </tr>\n",
       "    <tr>\n",
       "      <th>2</th>\n",
       "      <td>12748.0</td>\n",
       "      <td>2729.067</td>\n",
       "      <td>3541.263</td>\n",
       "      <td>9.405</td>\n",
       "      <td>6900.795</td>\n",
       "      <td>2576.013</td>\n",
       "      <td>4693.788</td>\n",
       "      <td>1012.572</td>\n",
       "      <td>3990.558</td>\n",
       "      <td>270.996</td>\n",
       "      <td>...</td>\n",
       "      <td>1549.086</td>\n",
       "      <td>6474.072</td>\n",
       "      <td>2060.157</td>\n",
       "      <td>6448.761</td>\n",
       "      <td>113.751</td>\n",
       "      <td>3299.670</td>\n",
       "      <td>2232.186</td>\n",
       "      <td>7421.436</td>\n",
       "      <td>4433.649</td>\n",
       "      <td>22251.801</td>\n",
       "    </tr>\n",
       "    <tr>\n",
       "      <th>3</th>\n",
       "      <td>12749.0</td>\n",
       "      <td>0.000</td>\n",
       "      <td>0.000</td>\n",
       "      <td>0.000</td>\n",
       "      <td>0.000</td>\n",
       "      <td>0.000</td>\n",
       "      <td>0.000</td>\n",
       "      <td>0.000</td>\n",
       "      <td>0.000</td>\n",
       "      <td>0.000</td>\n",
       "      <td>...</td>\n",
       "      <td>0.000</td>\n",
       "      <td>0.000</td>\n",
       "      <td>0.000</td>\n",
       "      <td>9092.259</td>\n",
       "      <td>0.000</td>\n",
       "      <td>1889.547</td>\n",
       "      <td>0.000</td>\n",
       "      <td>0.000</td>\n",
       "      <td>0.000</td>\n",
       "      <td>2518.098</td>\n",
       "    </tr>\n",
       "    <tr>\n",
       "      <th>4</th>\n",
       "      <td>12820.0</td>\n",
       "      <td>0.000</td>\n",
       "      <td>0.000</td>\n",
       "      <td>0.000</td>\n",
       "      <td>1134.408</td>\n",
       "      <td>0.000</td>\n",
       "      <td>0.000</td>\n",
       "      <td>0.000</td>\n",
       "      <td>0.000</td>\n",
       "      <td>0.000</td>\n",
       "      <td>...</td>\n",
       "      <td>0.000</td>\n",
       "      <td>0.000</td>\n",
       "      <td>0.000</td>\n",
       "      <td>0.000</td>\n",
       "      <td>562.518</td>\n",
       "      <td>0.000</td>\n",
       "      <td>0.000</td>\n",
       "      <td>0.000</td>\n",
       "      <td>0.000</td>\n",
       "      <td>0.000</td>\n",
       "    </tr>\n",
       "  </tbody>\n",
       "</table>\n",
       "<p>5 rows × 25 columns</p>\n",
       "</div>"
      ],
      "text/plain": [
       "MONTH_BY_YEAR  ID_OF_CUSTOMER  Apr-2020  Apr-2021  Aug-2020  Aug-2021  \\\n",
       "0                     12346.0     0.000     0.000     0.000     0.000   \n",
       "1                     12747.0     0.000  1241.790     0.000     0.000   \n",
       "2                     12748.0  2729.067  3541.263     9.405  6900.795   \n",
       "3                     12749.0     0.000     0.000     0.000     0.000   \n",
       "4                     12820.0     0.000     0.000     0.000  1134.408   \n",
       "\n",
       "MONTH_BY_YEAR    Dec-2020  Dec-2021  Feb-2020  Feb-2021  Jan-2020  ...  \\\n",
       "0              254705.880     0.000     0.000     0.000     0.000  ...   \n",
       "1                1025.574  1032.009     0.000  2908.818     0.000  ...   \n",
       "2                2576.013  4693.788  1012.572  3990.558   270.996  ...   \n",
       "3                   0.000     0.000     0.000     0.000     0.000  ...   \n",
       "4                   0.000     0.000     0.000     0.000     0.000  ...   \n",
       "\n",
       "MONTH_BY_YEAR  Mar-2020  Mar-2021  May-2020  May-2021  Nov-2020  Nov-2021  \\\n",
       "0                 0.000     0.000     0.000     0.000     0.000     0.000   \n",
       "1                 0.000  1083.555     0.000     0.000  1000.032     0.000   \n",
       "2              1549.086  6474.072  2060.157  6448.761   113.751  3299.670   \n",
       "3                 0.000     0.000     0.000  9092.259     0.000  1889.547   \n",
       "4                 0.000     0.000     0.000     0.000   562.518     0.000   \n",
       "\n",
       "MONTH_BY_YEAR  Oct-2020  Oct-2021  Sep-2020   Sep-2021  \n",
       "0                 0.000     0.000     0.000      0.000  \n",
       "1                 0.000     0.000  1183.248      0.000  \n",
       "2              2232.186  7421.436  4433.649  22251.801  \n",
       "3                 0.000     0.000     0.000   2518.098  \n",
       "4                 0.000     0.000     0.000      0.000  \n",
       "\n",
       "[5 rows x 25 columns]"
      ]
     },
     "execution_count": 83,
     "metadata": {},
     "output_type": "execute_result"
    }
   ],
   "source": [
    "# Create a pivot table with index is ID_OF_CUSTOMER, column is MONTH_BY_YEAR and values is TOTAL_PURCHASE\n",
    "SALES = df2.pivot_table(index=['ID_OF_CUSTOMER'], columns=['MONTH_BY_YEAR'], values='TOTAL_PURCHASE', aggfunc='sum', fill_value=0).reset_index()\n",
    "SALES.head()"
   ]
  },
  {
   "cell_type": "markdown",
   "metadata": {},
   "source": [
    "Let's add all of the month's sales to a new column."
   ]
  },
  {
   "cell_type": "code",
   "execution_count": 84,
   "metadata": {},
   "outputs": [
    {
     "data": {
      "text/html": [
       "<div>\n",
       "<style scoped>\n",
       "    .dataframe tbody tr th:only-of-type {\n",
       "        vertical-align: middle;\n",
       "    }\n",
       "\n",
       "    .dataframe tbody tr th {\n",
       "        vertical-align: top;\n",
       "    }\n",
       "\n",
       "    .dataframe thead th {\n",
       "        text-align: right;\n",
       "    }\n",
       "</style>\n",
       "<table border=\"1\" class=\"dataframe\">\n",
       "  <thead>\n",
       "    <tr style=\"text-align: right;\">\n",
       "      <th>MONTH_BY_YEAR</th>\n",
       "      <th>ID_OF_CUSTOMER</th>\n",
       "      <th>Apr-2020</th>\n",
       "      <th>Apr-2021</th>\n",
       "      <th>Aug-2020</th>\n",
       "      <th>Aug-2021</th>\n",
       "      <th>Dec-2020</th>\n",
       "      <th>Dec-2021</th>\n",
       "      <th>Feb-2020</th>\n",
       "      <th>Feb-2021</th>\n",
       "      <th>Jan-2020</th>\n",
       "      <th>...</th>\n",
       "      <th>Mar-2021</th>\n",
       "      <th>May-2020</th>\n",
       "      <th>May-2021</th>\n",
       "      <th>Nov-2020</th>\n",
       "      <th>Nov-2021</th>\n",
       "      <th>Oct-2020</th>\n",
       "      <th>Oct-2021</th>\n",
       "      <th>Sep-2020</th>\n",
       "      <th>Sep-2021</th>\n",
       "      <th>CLV</th>\n",
       "    </tr>\n",
       "  </thead>\n",
       "  <tbody>\n",
       "    <tr>\n",
       "      <th>0</th>\n",
       "      <td>12346.0</td>\n",
       "      <td>0.000</td>\n",
       "      <td>0.000</td>\n",
       "      <td>0.000</td>\n",
       "      <td>0.000</td>\n",
       "      <td>254705.880</td>\n",
       "      <td>0.000</td>\n",
       "      <td>0.000</td>\n",
       "      <td>0.000</td>\n",
       "      <td>0.000</td>\n",
       "      <td>...</td>\n",
       "      <td>0.000</td>\n",
       "      <td>0.000</td>\n",
       "      <td>0.000</td>\n",
       "      <td>0.000</td>\n",
       "      <td>0.000</td>\n",
       "      <td>0.000</td>\n",
       "      <td>0.000</td>\n",
       "      <td>0.000</td>\n",
       "      <td>0.000</td>\n",
       "      <td>254705.880</td>\n",
       "    </tr>\n",
       "    <tr>\n",
       "      <th>1</th>\n",
       "      <td>12747.0</td>\n",
       "      <td>0.000</td>\n",
       "      <td>1241.790</td>\n",
       "      <td>0.000</td>\n",
       "      <td>0.000</td>\n",
       "      <td>1025.574</td>\n",
       "      <td>1032.009</td>\n",
       "      <td>0.000</td>\n",
       "      <td>2908.818</td>\n",
       "      <td>0.000</td>\n",
       "      <td>...</td>\n",
       "      <td>1083.555</td>\n",
       "      <td>0.000</td>\n",
       "      <td>0.000</td>\n",
       "      <td>1000.032</td>\n",
       "      <td>0.000</td>\n",
       "      <td>0.000</td>\n",
       "      <td>0.000</td>\n",
       "      <td>1183.248</td>\n",
       "      <td>0.000</td>\n",
       "      <td>13846.833</td>\n",
       "    </tr>\n",
       "    <tr>\n",
       "      <th>2</th>\n",
       "      <td>12748.0</td>\n",
       "      <td>2729.067</td>\n",
       "      <td>3541.263</td>\n",
       "      <td>9.405</td>\n",
       "      <td>6900.795</td>\n",
       "      <td>2576.013</td>\n",
       "      <td>4693.788</td>\n",
       "      <td>1012.572</td>\n",
       "      <td>3990.558</td>\n",
       "      <td>270.996</td>\n",
       "      <td>...</td>\n",
       "      <td>6474.072</td>\n",
       "      <td>2060.157</td>\n",
       "      <td>6448.761</td>\n",
       "      <td>113.751</td>\n",
       "      <td>3299.670</td>\n",
       "      <td>2232.186</td>\n",
       "      <td>7421.436</td>\n",
       "      <td>4433.649</td>\n",
       "      <td>22251.801</td>\n",
       "      <td>108546.042</td>\n",
       "    </tr>\n",
       "    <tr>\n",
       "      <th>3</th>\n",
       "      <td>12749.0</td>\n",
       "      <td>0.000</td>\n",
       "      <td>0.000</td>\n",
       "      <td>0.000</td>\n",
       "      <td>0.000</td>\n",
       "      <td>0.000</td>\n",
       "      <td>0.000</td>\n",
       "      <td>0.000</td>\n",
       "      <td>0.000</td>\n",
       "      <td>0.000</td>\n",
       "      <td>...</td>\n",
       "      <td>0.000</td>\n",
       "      <td>0.000</td>\n",
       "      <td>9092.259</td>\n",
       "      <td>0.000</td>\n",
       "      <td>1889.547</td>\n",
       "      <td>0.000</td>\n",
       "      <td>0.000</td>\n",
       "      <td>0.000</td>\n",
       "      <td>2518.098</td>\n",
       "      <td>13499.904</td>\n",
       "    </tr>\n",
       "    <tr>\n",
       "      <th>4</th>\n",
       "      <td>12820.0</td>\n",
       "      <td>0.000</td>\n",
       "      <td>0.000</td>\n",
       "      <td>0.000</td>\n",
       "      <td>1134.408</td>\n",
       "      <td>0.000</td>\n",
       "      <td>0.000</td>\n",
       "      <td>0.000</td>\n",
       "      <td>0.000</td>\n",
       "      <td>0.000</td>\n",
       "      <td>...</td>\n",
       "      <td>0.000</td>\n",
       "      <td>0.000</td>\n",
       "      <td>0.000</td>\n",
       "      <td>562.518</td>\n",
       "      <td>0.000</td>\n",
       "      <td>0.000</td>\n",
       "      <td>0.000</td>\n",
       "      <td>0.000</td>\n",
       "      <td>0.000</td>\n",
       "      <td>3109.722</td>\n",
       "    </tr>\n",
       "  </tbody>\n",
       "</table>\n",
       "<p>5 rows × 26 columns</p>\n",
       "</div>"
      ],
      "text/plain": [
       "MONTH_BY_YEAR  ID_OF_CUSTOMER  Apr-2020  Apr-2021  Aug-2020  Aug-2021  \\\n",
       "0                     12346.0     0.000     0.000     0.000     0.000   \n",
       "1                     12747.0     0.000  1241.790     0.000     0.000   \n",
       "2                     12748.0  2729.067  3541.263     9.405  6900.795   \n",
       "3                     12749.0     0.000     0.000     0.000     0.000   \n",
       "4                     12820.0     0.000     0.000     0.000  1134.408   \n",
       "\n",
       "MONTH_BY_YEAR    Dec-2020  Dec-2021  Feb-2020  Feb-2021  Jan-2020  ...  \\\n",
       "0              254705.880     0.000     0.000     0.000     0.000  ...   \n",
       "1                1025.574  1032.009     0.000  2908.818     0.000  ...   \n",
       "2                2576.013  4693.788  1012.572  3990.558   270.996  ...   \n",
       "3                   0.000     0.000     0.000     0.000     0.000  ...   \n",
       "4                   0.000     0.000     0.000     0.000     0.000  ...   \n",
       "\n",
       "MONTH_BY_YEAR  Mar-2021  May-2020  May-2021  Nov-2020  Nov-2021  Oct-2020  \\\n",
       "0                 0.000     0.000     0.000     0.000     0.000     0.000   \n",
       "1              1083.555     0.000     0.000  1000.032     0.000     0.000   \n",
       "2              6474.072  2060.157  6448.761   113.751  3299.670  2232.186   \n",
       "3                 0.000     0.000  9092.259     0.000  1889.547     0.000   \n",
       "4                 0.000     0.000     0.000   562.518     0.000     0.000   \n",
       "\n",
       "MONTH_BY_YEAR  Oct-2021  Sep-2020   Sep-2021         CLV  \n",
       "0                 0.000     0.000      0.000  254705.880  \n",
       "1                 0.000  1183.248      0.000   13846.833  \n",
       "2              7421.436  4433.649  22251.801  108546.042  \n",
       "3                 0.000     0.000   2518.098   13499.904  \n",
       "4                 0.000     0.000      0.000    3109.722  \n",
       "\n",
       "[5 rows x 26 columns]"
      ]
     },
     "execution_count": 84,
     "metadata": {},
     "output_type": "execute_result"
    }
   ],
   "source": [
    "# Create CLV column\n",
    "SALES['CLV']=SALES.iloc[:,2:].sum(axis=1)\n",
    "SALES.head()"
   ]
  },
  {
   "cell_type": "markdown",
   "metadata": {},
   "source": [
    "Take a look at our new column CLV."
   ]
  },
  {
   "cell_type": "code",
   "execution_count": 85,
   "metadata": {},
   "outputs": [
    {
     "name": "stdout",
     "output_type": "stream",
     "text": [
      "count      3920.000000\n",
      "mean       6108.827978\n",
      "std       24578.215043\n",
      "min           0.000000\n",
      "25%         979.060500\n",
      "50%        2132.229000\n",
      "75%        5172.857250\n",
      "max      850552.098000\n",
      "Name: CLV, dtype: float64\n"
     ]
    },
    {
     "name": "stderr",
     "output_type": "stream",
     "text": [
      "c:\\Users\\Phuc Thanh Tran\\AppData\\Local\\Programs\\Python\\Python310\\lib\\site-packages\\seaborn\\distributions.py:2619: FutureWarning: `distplot` is a deprecated function and will be removed in a future version. Please adapt your code to use either `displot` (a figure-level function with similar flexibility) or `histplot` (an axes-level function for histograms).\n",
      "  warnings.warn(msg, FutureWarning)\n"
     ]
    },
    {
     "data": {
      "image/png": "[encoded data removed]",
      "text/plain": [
       "<Figure size 1440x360 with 1 Axes>"
      ]
     },
     "metadata": {},
     "output_type": "display_data"
    }
   ],
   "source": [
    "print(SALES['CLV'].describe())\n",
    "plt.figure(figsize=(20,5))\n",
    "sns.distplot(SALES['CLV'], kde=True)\n",
    "plt.show()"
   ]
  },
  {
   "cell_type": "markdown",
   "metadata": {},
   "source": [
    "I'll create a new data set that only contains the columns need to be interested in."
   ]
  },
  {
   "cell_type": "code",
   "execution_count": 86,
   "metadata": {},
   "outputs": [
    {
     "data": {
      "text/html": [
       "<div>\n",
       "<style scoped>\n",
       "    .dataframe tbody tr th:only-of-type {\n",
       "        vertical-align: middle;\n",
       "    }\n",
       "\n",
       "    .dataframe tbody tr th {\n",
       "        vertical-align: top;\n",
       "    }\n",
       "\n",
       "    .dataframe thead th {\n",
       "        text-align: right;\n",
       "    }\n",
       "</style>\n",
       "<table border=\"1\" class=\"dataframe\">\n",
       "  <thead>\n",
       "    <tr style=\"text-align: right;\">\n",
       "      <th>MONTH_BY_YEAR</th>\n",
       "      <th>ID_OF_CUSTOMER</th>\n",
       "      <th>Sep-2021</th>\n",
       "      <th>Aug-2021</th>\n",
       "      <th>Jul-2021</th>\n",
       "      <th>Jun-2021</th>\n",
       "      <th>May-2021</th>\n",
       "      <th>Apr-2021</th>\n",
       "      <th>CLV</th>\n",
       "    </tr>\n",
       "  </thead>\n",
       "  <tbody>\n",
       "    <tr>\n",
       "      <th>0</th>\n",
       "      <td>12346.0</td>\n",
       "      <td>0.000</td>\n",
       "      <td>0.000</td>\n",
       "      <td>0.000</td>\n",
       "      <td>0.000</td>\n",
       "      <td>0.000</td>\n",
       "      <td>0.000</td>\n",
       "      <td>254705.880</td>\n",
       "    </tr>\n",
       "    <tr>\n",
       "      <th>1</th>\n",
       "      <td>12747.0</td>\n",
       "      <td>0.000</td>\n",
       "      <td>0.000</td>\n",
       "      <td>2228.754</td>\n",
       "      <td>995.610</td>\n",
       "      <td>0.000</td>\n",
       "      <td>1241.790</td>\n",
       "      <td>13846.833</td>\n",
       "    </tr>\n",
       "    <tr>\n",
       "      <th>2</th>\n",
       "      <td>12748.0</td>\n",
       "      <td>22251.801</td>\n",
       "      <td>6900.795</td>\n",
       "      <td>18851.184</td>\n",
       "      <td>3869.151</td>\n",
       "      <td>6448.761</td>\n",
       "      <td>3541.263</td>\n",
       "      <td>108546.042</td>\n",
       "    </tr>\n",
       "    <tr>\n",
       "      <th>3</th>\n",
       "      <td>12749.0</td>\n",
       "      <td>2518.098</td>\n",
       "      <td>0.000</td>\n",
       "      <td>0.000</td>\n",
       "      <td>0.000</td>\n",
       "      <td>9092.259</td>\n",
       "      <td>0.000</td>\n",
       "      <td>13499.904</td>\n",
       "    </tr>\n",
       "    <tr>\n",
       "      <th>4</th>\n",
       "      <td>12820.0</td>\n",
       "      <td>0.000</td>\n",
       "      <td>1134.408</td>\n",
       "      <td>718.641</td>\n",
       "      <td>0.000</td>\n",
       "      <td>0.000</td>\n",
       "      <td>0.000</td>\n",
       "      <td>3109.722</td>\n",
       "    </tr>\n",
       "  </tbody>\n",
       "</table>\n",
       "</div>"
      ],
      "text/plain": [
       "MONTH_BY_YEAR  ID_OF_CUSTOMER   Sep-2021  Aug-2021   Jul-2021  Jun-2021  \\\n",
       "0                     12346.0      0.000     0.000      0.000     0.000   \n",
       "1                     12747.0      0.000     0.000   2228.754   995.610   \n",
       "2                     12748.0  22251.801  6900.795  18851.184  3869.151   \n",
       "3                     12749.0   2518.098     0.000      0.000     0.000   \n",
       "4                     12820.0      0.000  1134.408    718.641     0.000   \n",
       "\n",
       "MONTH_BY_YEAR  May-2021  Apr-2021         CLV  \n",
       "0                 0.000     0.000  254705.880  \n",
       "1                 0.000  1241.790   13846.833  \n",
       "2              6448.761  3541.263  108546.042  \n",
       "3              9092.259     0.000   13499.904  \n",
       "4                 0.000     0.000    3109.722  "
      ]
     },
     "execution_count": 86,
     "metadata": {},
     "output_type": "execute_result"
    }
   ],
   "source": [
    "df3 = SALES[['ID_OF_CUSTOMER','Sep-2021','Aug-2021','Jul-2021','Jun-2021','May-2021','Apr-2021','CLV']]\n",
    "df3.head()"
   ]
  },
  {
   "cell_type": "markdown",
   "metadata": {},
   "source": [
    "Create a last dataset that I will use it to build the model."
   ]
  },
  {
   "cell_type": "code",
   "execution_count": 87,
   "metadata": {},
   "outputs": [],
   "source": [
    "dflast = df3.copy()"
   ]
  },
  {
   "cell_type": "markdown",
   "metadata": {},
   "source": [
    "Check the correlation between the columns of the last dataset."
   ]
  },
  {
   "cell_type": "code",
   "execution_count": 88,
   "metadata": {},
   "outputs": [
    {
     "data": {
      "image/png": "[encoded data removed]",
      "text/plain": [
       "<Figure size 504x360 with 2 Axes>"
      ]
     },
     "metadata": {},
     "output_type": "display_data"
    }
   ],
   "source": [
    "plt.figure(figsize=(7,5))\n",
    "sns.heatmap(dflast.corr(),annot=True)\n",
    "plt.show()"
   ]
  },
  {
   "cell_type": "markdown",
   "metadata": {},
   "source": [
    "The \"CLV\" is the feature we will predict. So, how much does each independent variable correlate with this target variable?"
   ]
  },
  {
   "cell_type": "code",
   "execution_count": 89,
   "metadata": {},
   "outputs": [
    {
     "name": "stdout",
     "output_type": "stream",
     "text": [
      "MONTH_BY_YEAR\n",
      "CLV               1.000000\n",
      "Aug-2021          0.750516\n",
      "Jul-2021          0.724179\n",
      "Apr-2021          0.642231\n",
      "Sep-2021          0.517859\n",
      "May-2021          0.495913\n",
      "Jun-2021          0.467872\n",
      "ID_OF_CUSTOMER    0.003167\n",
      "Name: CLV, dtype: float64\n"
     ]
    },
    {
     "data": {
      "text/plain": [
       "<AxesSubplot:ylabel='MONTH_BY_YEAR'>"
      ]
     },
     "execution_count": 89,
     "metadata": {},
     "output_type": "execute_result"
    },
    {
     "data": {
      "image/png": "[encoded data removed]",
      "text/plain": [
       "<Figure size 432x288 with 2 Axes>"
      ]
     },
     "metadata": {},
     "output_type": "display_data"
    }
   ],
   "source": [
    "clv_corr = dflast.corr()[\"CLV\"].sort_values(ascending=False)\n",
    "print(clv_corr)\n",
    "sns.heatmap(pd.DataFrame(clv_corr))"
   ]
  },
  {
   "cell_type": "markdown",
   "metadata": {},
   "source": [
    "It is easy to see that all the features have a great influence on the CLV feature except the \"ID_OF_CUSTOMER\" feature. Therefore, I will not use it for the model."
   ]
  },
  {
   "cell_type": "markdown",
   "metadata": {},
   "source": [
    "BUILD MODEL"
   ]
  },
  {
   "cell_type": "markdown",
   "metadata": {},
   "source": [
    "Define standalone features and Target features."
   ]
  },
  {
   "cell_type": "code",
   "execution_count": 90,
   "metadata": {},
   "outputs": [],
   "source": [
    "X = dflast[ ['Sep-2021', 'Aug-2021', 'Jul-2021', 'Jun-2021','May-2021','Apr-2021'] ]\n",
    "y = dflast[ ['CLV']]"
   ]
  },
  {
   "cell_type": "markdown",
   "metadata": {},
   "source": [
    "Run a regression on the entire dataset to see if there is any kind of model."
   ]
  },
  {
   "cell_type": "code",
   "execution_count": 91,
   "metadata": {},
   "outputs": [
    {
     "name": "stdout",
     "output_type": "stream",
     "text": [
      "                            OLS Regression Results                            \n",
      "==============================================================================\n",
      "Dep. Variable:                    CLV   R-squared:                       0.786\n",
      "Model:                            OLS   Adj. R-squared:                  0.786\n",
      "Method:                 Least Squares   F-statistic:                     2399.\n",
      "Date:                Wed, 22 Jun 2022   Prob (F-statistic):               0.00\n",
      "Time:                        13:57:14   Log-Likelihood:                -42167.\n",
      "No. Observations:                3920   AIC:                         8.435e+04\n",
      "Df Residuals:                    3913   BIC:                         8.439e+04\n",
      "Df Model:                           6                                         \n",
      "Covariance Type:            nonrobust                                         \n",
      "==============================================================================\n",
      "                 coef    std err          t      P>|t|      [0.025      0.975]\n",
      "------------------------------------------------------------------------------\n",
      "const        981.8549    189.455      5.183      0.000     610.415    1353.295\n",
      "Sep-2021       1.1641      0.078     14.866      0.000       1.011       1.318\n",
      "Aug-2021       1.8467      0.078     23.533      0.000       1.693       2.001\n",
      "Jul-2021       1.7621      0.054     32.921      0.000       1.657       1.867\n",
      "Jun-2021       1.9971      0.137     14.606      0.000       1.729       2.265\n",
      "May-2021       1.4530      0.066     21.922      0.000       1.323       1.583\n",
      "Apr-2021       1.8677      0.117     15.967      0.000       1.638       2.097\n",
      "==============================================================================\n",
      "Omnibus:                    10748.729   Durbin-Watson:                   1.874\n",
      "Prob(Omnibus):                  0.000   Jarque-Bera (JB):        383138267.108\n",
      "Skew:                          33.813   Prob(JB):                         0.00\n",
      "Kurtosis:                    1533.089   Cond. No.                     6.37e+03\n",
      "==============================================================================\n",
      "\n",
      "Notes:\n",
      "[1] Standard Errors assume that the covariance matrix of the errors is correctly specified.\n",
      "[2] The condition number is large, 6.37e+03. This might indicate that there are\n",
      "strong multicollinearity or other numerical problems.\n"
     ]
    }
   ],
   "source": [
    "import statsmodels.api as st\n",
    "X1 = st.add_constant(X)\n",
    "reg_model=st.OLS(y,X1)\n",
    "result=reg_model.fit()\n",
    "print(result.summary())"
   ]
  },
  {
   "cell_type": "markdown",
   "metadata": {},
   "source": [
    "X can explain 78.6 percent of the variability in Y, and the p-values for all variables are less than 0.05. This is excellent."
   ]
  },
  {
   "cell_type": "markdown",
   "metadata": {},
   "source": [
    "Split the data for training set and test set."
   ]
  },
  {
   "cell_type": "code",
   "execution_count": 92,
   "metadata": {},
   "outputs": [],
   "source": [
    "from sklearn.model_selection import train_test_split\n",
    "X_train, X_test, y_train, y_test = train_test_split(X, y, test_size=0.3, random_state=40)"
   ]
  },
  {
   "cell_type": "markdown",
   "metadata": {},
   "source": [
    "LINEAR REGRESSION MODEL"
   ]
  },
  {
   "cell_type": "markdown",
   "metadata": {},
   "source": [
    "Fit the data into the linear regression model"
   ]
  },
  {
   "cell_type": "code",
   "execution_count": 93,
   "metadata": {},
   "outputs": [
    {
     "data": {
      "text/plain": [
       "LinearRegression()"
      ]
     },
     "execution_count": 93,
     "metadata": {},
     "output_type": "execute_result"
    }
   ],
   "source": [
    "from sklearn.linear_model import LinearRegression\n",
    "regressor = LinearRegression()\n",
    "regressor.fit(X_train, y_train)"
   ]
  },
  {
   "cell_type": "code",
   "execution_count": 94,
   "metadata": {},
   "outputs": [
    {
     "name": "stdout",
     "output_type": "stream",
     "text": [
      "                            OLS Regression Results                            \n",
      "==============================================================================\n",
      "Dep. Variable:                    CLV   R-squared:                       0.776\n",
      "Model:                            OLS   Adj. R-squared:                  0.775\n",
      "Method:                 Least Squares   F-statistic:                     1579.\n",
      "Date:                Wed, 22 Jun 2022   Prob (F-statistic):               0.00\n",
      "Time:                        13:57:15   Log-Likelihood:                -29961.\n",
      "No. Observations:                2744   AIC:                         5.994e+04\n",
      "Df Residuals:                    2737   BIC:                         5.998e+04\n",
      "Df Model:                           6                                         \n",
      "Covariance Type:            nonrobust                                         \n",
      "==============================================================================\n",
      "                 coef    std err          t      P>|t|      [0.025      0.975]\n",
      "------------------------------------------------------------------------------\n",
      "const       1159.6547    265.436      4.369      0.000     639.180    1680.129\n",
      "Sep-2021       1.1107      0.096     11.597      0.000       0.923       1.299\n",
      "Aug-2021       1.9277      0.100     19.333      0.000       1.732       2.123\n",
      "Jul-2021       1.7724      0.065     27.193      0.000       1.645       1.900\n",
      "Jun-2021       1.8981      0.173     10.946      0.000       1.558       2.238\n",
      "May-2021       1.4753      0.082     17.992      0.000       1.314       1.636\n",
      "Apr-2021       1.7482      0.150     11.671      0.000       1.455       2.042\n",
      "==============================================================================\n",
      "Omnibus:                     7175.414   Durbin-Watson:                   2.003\n",
      "Prob(Omnibus):                  0.000   Jarque-Bera (JB):        149452721.667\n",
      "Skew:                          29.687   Prob(JB):                         0.00\n",
      "Kurtosis:                    1144.771   Cond. No.                     7.28e+03\n",
      "==============================================================================\n",
      "\n",
      "Notes:\n",
      "[1] Standard Errors assume that the covariance matrix of the errors is correctly specified.\n",
      "[2] The condition number is large, 7.28e+03. This might indicate that there are\n",
      "strong multicollinearity or other numerical problems.\n"
     ]
    }
   ],
   "source": [
    "X_train1 = st.add_constant(X_train)\n",
    "reg_model = st.OLS(y_train,X_train1)\n",
    "result = reg_model.fit()\n",
    "print(result.summary())"
   ]
  },
  {
   "cell_type": "markdown",
   "metadata": {},
   "source": [
    "EVALUATION"
   ]
  },
  {
   "cell_type": "markdown",
   "metadata": {},
   "source": [
    "Check the linear regression model’s precision"
   ]
  },
  {
   "cell_type": "code",
   "execution_count": 95,
   "metadata": {},
   "outputs": [
    {
     "name": "stdout",
     "output_type": "stream",
     "text": [
      "Precision of training set: 0.7758919124964715\n",
      "Precision of on test set: 0.9066089274834814\n"
     ]
    }
   ],
   "source": [
    "print(f'Precision of training set: {regressor.score(X_train, y_train)}')\n",
    "print(f'Precision of on test set: {regressor.score(X_test, y_test)}')"
   ]
  },
  {
   "cell_type": "markdown",
   "metadata": {},
   "source": [
    "We can see that the precision on the training set is 77.59%. It is good and we can satisfied about it."
   ]
  },
  {
   "cell_type": "markdown",
   "metadata": {},
   "source": [
    "The precision on the test set is 90.07%, so it is great."
   ]
  },
  {
   "cell_type": "markdown",
   "metadata": {},
   "source": [
    "Next to, I will use the R squared metric, assess the precision of our linear regression model."
   ]
  },
  {
   "cell_type": "code",
   "execution_count": 96,
   "metadata": {},
   "outputs": [
    {
     "name": "stdout",
     "output_type": "stream",
     "text": [
      "Linear Regression R squared: 0.9066089274834814\n"
     ]
    }
   ],
   "source": [
    "from sklearn.metrics import mean_squared_error\n",
    "y_pred_regressor = regressor.predict(X_test)\n",
    "regressor_r = regressor.score(X_test, y_test)\n",
    "print(f'Linear Regression R squared: {regressor_r}')"
   ]
  },
  {
   "cell_type": "markdown",
   "metadata": {},
   "source": [
    "This means my model can explain 90.07% of the variability in the ‘CLV’ feature using our 6 independent features."
   ]
  },
  {
   "cell_type": "markdown",
   "metadata": {},
   "source": [
    "Next, the RMSE metric is used to assess the accuracy of our linear regression model."
   ]
  },
  {
   "cell_type": "code",
   "execution_count": 97,
   "metadata": {},
   "outputs": [
    {
     "name": "stdout",
     "output_type": "stream",
     "text": [
      "Linear Regression RMSE: 3792.9973836278928\n"
     ]
    }
   ],
   "source": [
    "regressor_mse = mean_squared_error(y_pred_regressor, y_test)\n",
    "regressor_rmse = np.sqrt(regressor_mse)\n",
    "print(f'Linear Regression RMSE: {regressor_rmse}')"
   ]
  },
  {
   "cell_type": "markdown",
   "metadata": {},
   "source": [
    "The RMSE estimates the deviation of the actual y-values from the regression line. This means the model predicted the CLV value of each customer in the test set to within $3792.99 of the true CLV value."
   ]
  },
  {
   "cell_type": "markdown",
   "metadata": {},
   "source": [
    "PRACTICAL"
   ]
  },
  {
   "cell_type": "markdown",
   "metadata": {},
   "source": [
    "I want to test my model actually work in reallife, so I will import a data of a new customer into my model to predict a new value. "
   ]
  },
  {
   "cell_type": "code",
   "execution_count": 98,
   "metadata": {},
   "outputs": [
    {
     "name": "stdout",
     "output_type": "stream",
     "text": [
      "The mean customer CLV is: $57261\n"
     ]
    },
    {
     "name": "stderr",
     "output_type": "stream",
     "text": [
      "c:\\Users\\Phuc Thanh Tran\\AppData\\Local\\Programs\\Python\\Python310\\lib\\site-packages\\sklearn\\base.py:450: UserWarning: X does not have valid feature names, but LinearRegression was fitted with feature names\n",
      "  warnings.warn(\n"
     ]
    }
   ],
   "source": [
    "# import a new data\n",
    "new_data = np.array([1000, 2000, 4000, 7000, 9000, 10000]).reshape(1, -1)\n",
    "new_pred=regressor.predict(new_data)\n",
    "new_pred1 = int(new_pred[0][0])\n",
    "print(f\"The mean customer CLV is: ${new_pred1}\")"
   ]
  },
  {
   "cell_type": "markdown",
   "metadata": {},
   "source": [
    "Let's calculate the Z value for a 99% confidence interval, which is 0.5 percent probability."
   ]
  },
  {
   "cell_type": "code",
   "execution_count": 99,
   "metadata": {},
   "outputs": [
    {
     "name": "stdout",
     "output_type": "stream",
     "text": [
      "Z value: 2.5758293035489004\n"
     ]
    }
   ],
   "source": [
    "StandardError = regressor_rmse\n",
    "ExpectedValue = new_pred1\n",
    "import scipy.stats as si\n",
    "alpha = 1 - 0.99\n",
    "zvalue = abs(si.norm.ppf(0.5*alpha))\n",
    "print(f'Z value: {zvalue}')"
   ]
  },
  {
   "cell_type": "code",
   "execution_count": 100,
   "metadata": {},
   "outputs": [
    {
     "name": "stdout",
     "output_type": "stream",
     "text": [
      "The Customer's CLV is between $47490 and $67031 with a confidence level of 99%.\n"
     ]
    }
   ],
   "source": [
    "Upper = int(ExpectedValue + zvalue * StandardError)\n",
    "Lower = int(ExpectedValue - zvalue*StandardError)\n",
    "print(f\"The Customer's CLV is between ${Lower} and ${Upper} with a confidence level of 99%.\")"
   ]
  }
 ],
 "metadata": {
  "kernelspec": {
   "display_name": "Python 3.10.1 64-bit",
   "language": "python",
   "name": "python3"
  },
  "language_info": {
   "codemirror_mode": {
    "name": "ipython",
    "version": 3
   },
   "file_extension": ".py",
   "mimetype": "text/x-python",
   "name": "python",
   "nbconvert_exporter": "python",
   "pygments_lexer": "ipython3",
   "version": "3.10.1"
  },
  "orig_nbformat": 4,
  "vscode": {
   "interpreter": {
    "hash": "214ac0f2ace4e9d21553e50ace55c5ff6f699be61abb938c94cb001d389982eb"
   }
  }
 },
 "nbformat": 4,
 "nbformat_minor": 2
}
